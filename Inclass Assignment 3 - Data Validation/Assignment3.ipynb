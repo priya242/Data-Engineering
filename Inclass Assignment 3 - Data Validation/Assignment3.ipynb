{
  "nbformat": 4,
  "nbformat_minor": 0,
  "metadata": {
    "colab": {
      "name": "Assignment3.ipynb",
      "provenance": [],
      "history_visible": true,
      "authorship_tag": "ABX9TyP/ZJ95HCkJjR5+KHakNsMk",
      "include_colab_link": true
    },
    "kernelspec": {
      "name": "python3",
      "display_name": "Python 3"
    }
  },
  "cells": [
    {
      "cell_type": "markdown",
      "metadata": {
        "id": "view-in-github",
        "colab_type": "text"
      },
      "source": [
        "<a href=\"https://colab.research.google.com/github/priya242/Data-Engineering/blob/main/Assignment3.ipynb\" target=\"_parent\"><img src=\"https://colab.research.google.com/assets/colab-badge.svg\" alt=\"Open In Colab\"/></a>"
      ]
    },
    {
      "cell_type": "code",
      "metadata": {
        "id": "rwaUvhe6WG4F"
      },
      "source": [
        "import csv\n",
        "import pandas"
      ],
      "execution_count": 103,
      "outputs": []
    },
    {
      "cell_type": "code",
      "metadata": {
        "colab": {
          "base_uri": "https://localhost:8080/"
        },
        "id": "mWBlJKOzWSfB",
        "outputId": "0c689cff-ece1-4dfe-dab0-4869224ad44a"
      },
      "source": [
        "df = pandas.read_csv('/content/Oregon Hwy 26 Crash Data for 2019 - Crashes on Hwy 26 during 2019.csv')\n",
        "print(df)"
      ],
      "execution_count": 108,
      "outputs": [
        {
          "output_type": "stream",
          "text": [
            "      Crash ID  ...  Participant Striker Flag\n",
            "0      1809119  ...                       NaN\n",
            "1      1809119  ...                       NaN\n",
            "2      1809119  ...                       NaN\n",
            "3      1809119  ...                       NaN\n",
            "4      1809119  ...                       NaN\n",
            "...        ...  ...                       ...\n",
            "2734   1860771  ...                       NaN\n",
            "2735   1860771  ...                       NaN\n",
            "2736   1860771  ...                       NaN\n",
            "2737   1860771  ...                       NaN\n",
            "2738   1860771  ...                       NaN\n",
            "\n",
            "[2739 rows x 157 columns]\n"
          ],
          "name": "stdout"
        },
        {
          "output_type": "execute_result",
          "data": {
            "text/plain": [
              "0       1809119\n",
              "1       1809119\n",
              "2       1809119\n",
              "3       1809119\n",
              "4       1809119\n",
              "         ...   \n",
              "2734    1860771\n",
              "2735    1860771\n",
              "2736    1860771\n",
              "2737    1860771\n",
              "2738    1860771\n",
              "Name: Crash ID, Length: 2739, dtype: int64"
            ]
          },
          "metadata": {
            "tags": []
          },
          "execution_count": 108
        }
      ]
    },
    {
      "cell_type": "code",
      "metadata": {
        "colab": {
          "base_uri": "https://localhost:8080/"
        },
        "id": "I2-Hcyp_U3uN",
        "outputId": "33b33bd7-cec7-4aa7-ffc7-e309b367415d"
      },
      "source": [
        "#1. existence assertions\n",
        "\n",
        "print(\"Null values for Crash ID--\",df['Crash ID'].isnull().sum())\n",
        "print(\"Null values for Vehicle ID--\",df['Vehicle ID'].isnull().sum())\n",
        "print(\"Where year is null--\" , df['Crash Year'].isnull().sum())\n",
        "print(\"Where year is equal to 2019--\" , df['Crash Year'].notnull().sum())"
      ],
      "execution_count": 164,
      "outputs": [
        {
          "output_type": "stream",
          "text": [
            "Null values for Crash ID-- 0\n",
            "Null values for Vehicle ID-- 508\n",
            "Where year is null-- 2231\n",
            "Where year is equal to 2019-- 508\n"
          ],
          "name": "stdout"
        }
      ]
    },
    {
      "cell_type": "code",
      "metadata": {
        "colab": {
          "base_uri": "https://localhost:8080/"
        },
        "id": "ypuwT_0KS6oW",
        "outputId": "833077b1-28b1-4f9f-a242-033ddd732e67"
      },
      "source": [
        "#2. limit assertions\n",
        "#Crash month must be a valid month number (01-12)\n",
        " df['Crash Month'].isin([1,12])\n",
        "#County code must be between (01-36).\n",
        "(df['County Code'] > 36).sum()\n",
        "(df['County Code'] < 1).sum()\n"
      ],
      "execution_count": 55,
      "outputs": [
        {
          "output_type": "execute_result",
          "data": {
            "text/plain": [
              "0"
            ]
          },
          "metadata": {
            "tags": []
          },
          "execution_count": 55
        }
      ]
    },
    {
      "cell_type": "code",
      "metadata": {
        "id": "5UYHRzma28XM"
      },
      "source": [
        "# 3. intra-record check assertions. \n",
        "# Combination of month, day and year do not represent a valid date.\n",
        "df1 = pandas.DataFrame({'mm': df['Crash Month'],\n",
        "                   'dd': df['Crash Day'],\n",
        "                   'yy': df['Crash Year']})\n",
        "df2 = df1[[\"yy\", \"mm\", \"dd\"]].copy()\n",
        "df2.columns = [\"year\", \"month\", \"day\"]\n",
        "date = pandas.to_datetime(df2)\n",
        "\n",
        "if pandas.to_datetime(date, format='%b-%d-%Y', errors='coerce').notnull().all():\n",
        "   print(date) \n",
        "#"
      ],
      "execution_count": 60,
      "outputs": []
    },
    {
      "cell_type": "code",
      "metadata": {
        "id": "VIq7FO7v615e"
      },
      "source": [
        "#4. inter-record check assertions.\n",
        "#Crash ID should not be exceeding 8 characters.\n",
        "crashid = df['Crash ID']\n",
        "for id in crashid : \n",
        "  y = str(id)\n",
        "  if len(y) > 8 :\n",
        "    print(y)\n",
        "#School Zone is a one-digit code that indicates the crash occurred should be blank, 0,1 or 9\n",
        "schoolId = df['School Zone Indicator']\n",
        "if schoolId.all() != 1 and schoolId.all() != 0 and schoolId.all() != 9 :\n",
        "  print(schoolId)"
      ],
      "execution_count": 88,
      "outputs": []
    },
    {
      "cell_type": "code",
      "metadata": {
        "colab": {
          "base_uri": "https://localhost:8080/"
        },
        "id": "_0Fw7DuY-us5",
        "outputId": "37e6835b-f75c-4f08-a0c8-120ab2a6b849"
      },
      "source": [
        "#5. Summary assertions.\n",
        "#HighWay number should be 26.\n",
        "highwayID = df['Highway Number']\n",
        "count = 0\n",
        "for id in highwayID :\n",
        "  if id != 26 :\n",
        "    count = count + 1\n",
        "print(count)\n",
        "#Participant Age must be eligible for driving\n",
        "age = df['Age']\n",
        "print((age > 18).sum())\n"
      ],
      "execution_count": 165,
      "outputs": [
        {
          "output_type": "stream",
          "text": [
            "2231\n",
            "0\n"
          ],
          "name": "stdout"
        }
      ]
    },
    {
      "cell_type": "code",
      "metadata": {
        "colab": {
          "base_uri": "https://localhost:8080/"
        },
        "id": "LTMO_dcARNwC",
        "outputId": "75a53858-a710-4b22-b0a3-28088b5d14d4"
      },
      "source": [
        "#6 referential integrity insertions.\n",
        "#Every crash participant has a valid vehicle ID.\n",
        "df[df['Record Type'].isin([2,3]) & df['Vehicle ID'].isnull()]\n",
        "print(\"Doesn't have valid vehicle ID\",df['Vehicle ID'].isnull().sum())\n",
        "\n",
        "#Every crash participant has a valid participant ID.\n",
        "df[df['Record Type'].isin([3]) & df['Participant ID'].isnull()]\n",
        "print(\"Doesn't have valid participant ID\",df['Participant ID'].isnull().sum())\n",
        "\n"
      ],
      "execution_count": 123,
      "outputs": [
        {
          "output_type": "stream",
          "text": [
            "Doesn't have valid vehicle ID 508\n",
            "Doesn't have valid participant ID 1523\n"
          ],
          "name": "stdout"
        }
      ]
    },
    {
      "cell_type": "code",
      "metadata": {
        "colab": {
          "base_uri": "https://localhost:8080/",
          "height": 663
        },
        "id": "aeuyiKRG-6v7",
        "outputId": "60edaec4-db89-4888-b475-1a18a2127676"
      },
      "source": [
        "#7 statistical distribution assertions.\n",
        "#Crashes are higher in number in the last 6 months\n",
        "import matplotlib.pyplot as plt\n",
        "import seaborn as sns\n",
        "%matplotlib inline\n",
        "\n",
        "x = df['Crash Month']\n",
        "\n",
        "ax = sns.distplot(x, hist=True, kde=True, rug=False, color='m', bins=25, hist_kws={'edgecolor':'black'})\n",
        "plt.show()\n",
        "#Average age is 30.\n",
        "y = df['Age']\n",
        "\n",
        "ax = sns.distplot(y, hist=True, kde=True, rug=True, color='m', bins=25, hist_kws={'edgecolor':'black'})\n",
        "plt.show()\n"
      ],
      "execution_count": 141,
      "outputs": [
        {
          "output_type": "stream",
          "text": [
            "/usr/local/lib/python3.6/dist-packages/seaborn/distributions.py:2557: FutureWarning: `distplot` is a deprecated function and will be removed in a future version. Please adapt your code to use either `displot` (a figure-level function with similar flexibility) or `histplot` (an axes-level function for histograms).\n",
            "  warnings.warn(msg, FutureWarning)\n"
          ],
          "name": "stderr"
        },
        {
          "output_type": "display_data",
          "data": {
            "image/png": "[encoded data removed]",
            "text/plain": [
              "<Figure size 432x288 with 1 Axes>"
            ]
          },
          "metadata": {
            "tags": [],
            "needs_background": "light"
          }
        },
        {
          "output_type": "stream",
          "text": [
            "/usr/local/lib/python3.6/dist-packages/seaborn/distributions.py:2557: FutureWarning: `distplot` is a deprecated function and will be removed in a future version. Please adapt your code to use either `displot` (a figure-level function with similar flexibility) or `histplot` (an axes-level function for histograms).\n",
            "  warnings.warn(msg, FutureWarning)\n",
            "/usr/local/lib/python3.6/dist-packages/seaborn/distributions.py:2056: FutureWarning: The `axis` variable is no longer used and will be removed. Instead, assign variables directly to `x` or `y`.\n",
            "  warnings.warn(msg, FutureWarning)\n"
          ],
          "name": "stderr"
        },
        {
          "output_type": "display_data",
          "data": {
            "image/png": "[encoded data removed]",
            "text/plain": [
              "<Figure size 432x288 with 1 Axes>"
            ]
          },
          "metadata": {
            "tags": [],
            "needs_background": "light"
          }
        }
      ]
    },
    {
      "cell_type": "code",
      "metadata": {
        "id": "yBlS0vQA--jp"
      },
      "source": [
        "\n",
        "\n"
      ],
      "execution_count": null,
      "outputs": []
    }
  ]
}